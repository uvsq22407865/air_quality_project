{
 "cells": [
  {
   "cell_type": "code",
   "execution_count": 6,
   "metadata": {},
   "outputs": [
    {
     "name": "stdout",
     "output_type": "stream",
     "text": [
      "                                                                                                      Identifiant station;Nom de la Station;Nom de la ligne;Niveau de pollution aux particules;Niveau de pollution;Incertitude;Recommandation de surveillance;Action(s) QAI en cours;Lien vers les mesures en direct;Durée des mesures;Mesures d’amélioration mises en place ou prévues;stop_lon;stop_lat;point_geo;pollution_air;air;niveau;actions;niveau_pollution\n",
      "IDFM:463116;Abbesses;Métro 12;pollution faible;... le trafic et le matériel roulant;non;;;;;2.3383...   2.338394635220906;pollution faible - incertit...                                                                                                                                                                                                                                                                                                             \n",
      "IDFM:483900;Aimé Césaire;Métro 12;pollution fai... le trafic et le matériel roulant;non;;;;;2.3781...   2.37813084516706;pollution faible - incertitu...                                                                                                                                                                                                                                                                                                             \n",
      "IDFM:monomodalStopPlace:46395;Athis-Mons;RER C;... 2.403668724287269;station aérienne;;Station aér...                                                NaN                                                                                                                                                                                                                                                                                                             \n",
      "IDFM:22130;Barbès - Rochechouart;Métro 4;pollut... le trafic et le matériel roulant;non;;;;;2.3496...   2.349629927853002;pollution faible - incertit...                                                                                                                                                                                                                                                                                                             \n",
      "IDFM:463019;Bastille;Métro 1;pollution moyenne;... le trafic et le matériel roulant;non;;;;;2.3686...   2.368692796099789;pollution moyenne - incerti...                                                                                                                                                                                                                                                                                                             \n"
     ]
    }
   ],
   "source": [
    "import pandas as pd\n",
    "\n",
    "df = pd.read_csv(r\"C:\\Users\\Administrator\\OneDrive\\Bureau\\pro\\air_quality_project\\data\\qualite_air_transport.csv\")\n",
    "print(df.head())\n"
   ]
  }
 ],
 "metadata": {
  "kernelspec": {
   "display_name": "Python 3",
   "language": "python",
   "name": "python3"
  },
  "language_info": {
   "codemirror_mode": {
    "name": "ipython",
    "version": 3
   },
   "file_extension": ".py",
   "mimetype": "text/x-python",
   "name": "python",
   "nbconvert_exporter": "python",
   "pygments_lexer": "ipython3",
   "version": "3.9.13"
  }
 },
 "nbformat": 4,
 "nbformat_minor": 2
}
