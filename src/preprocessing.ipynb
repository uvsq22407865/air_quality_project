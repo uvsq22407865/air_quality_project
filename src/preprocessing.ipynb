{
 "cells": [
  {
   "cell_type": "code",
   "execution_count": 7,
   "metadata": {},
   "outputs": [
    {
     "name": "stdout",
     "output_type": "stream",
     "text": [
      "                                                                                                      Identifiant station;Nom de la Station;Nom de la ligne;Niveau de pollution aux particules;Niveau de pollution;Incertitude;Recommandation de surveillance;Action(s) QAI en cours;Lien vers les mesures en direct;Durée des mesures;Mesures d’amélioration mises en place ou prévues;stop_lon;stop_lat;point_geo;pollution_air;air;niveau;actions;niveau_pollution\n",
      "IDFM:463116;Abbesses;Métro 12;pollution faible;... le trafic et le matériel roulant;non;;;;;2.3383...   2.338394635220906;pollution faible - incertit...                                                                                                                                                                                                                                                                                                             \n",
      "IDFM:483900;Aimé Césaire;Métro 12;pollution fai... le trafic et le matériel roulant;non;;;;;2.3781...   2.37813084516706;pollution faible - incertitu...                                                                                                                                                                                                                                                                                                             \n",
      "IDFM:monomodalStopPlace:46395;Athis-Mons;RER C;... 2.403668724287269;station aérienne;;Station aér...                                                NaN                                                                                                                                                                                                                                                                                                             \n",
      "IDFM:22130;Barbès - Rochechouart;Métro 4;pollut... le trafic et le matériel roulant;non;;;;;2.3496...   2.349629927853002;pollution faible - incertit...                                                                                                                                                                                                                                                                                                             \n",
      "IDFM:463019;Bastille;Métro 1;pollution moyenne;... le trafic et le matériel roulant;non;;;;;2.3686...   2.368692796099789;pollution moyenne - incerti...                                                                                                                                                                                                                                                                                                             \n",
      "<class 'pandas.core.frame.DataFrame'>\n",
      "MultiIndex: 662 entries, ('IDFM:463116;Abbesses;Métro 12;pollution faible;FAIBLE;Évaluation\\xa0: modélisation reposant notamment sur la configuration de la station', ' le trafic et le matériel roulant;non;;;;;2.338394635220906;48.884392717991425;48.884392717991425') to ('IDFM:monomodalStopPlace:43226;Yerres;RER D;station aérienne;station aérienne;;non;;https://www.airparif.fr/;;;2.483187005163047;48.7064507273249;48.7064507273249', ' 2.483187005163047;station aérienne;;Station aérienne – Proche des niveaux en air extérieur;;station aérienne')\n",
      "Data columns (total 1 columns):\n",
      " #   Column                                                                                                                                                                                                                                                                                                                                                           Non-Null Count  Dtype \n",
      "---  ------                                                                                                                                                                                                                                                                                                                                                           --------------  ----- \n",
      " 0   Identifiant station;Nom de la Station;Nom de la ligne;Niveau de pollution aux particules;Niveau de pollution;Incertitude;Recommandation de surveillance;Action(s) QAI en cours;Lien vers les mesures en direct;Durée des mesures;Mesures d’amélioration mises en place ou prévues;stop_lon;stop_lat;point_geo;pollution_air;air;niveau;actions;niveau_pollution  366 non-null    object\n",
      "dtypes: object(1)\n",
      "memory usage: 50.4+ KB\n",
      "None\n"
     ]
    }
   ],
   "source": [
    "import pandas as pd\n",
    "\n",
    "df = pd.read_csv(r\"C:\\Users\\Administrator\\OneDrive\\Bureau\\pro\\air_quality_project\\data\\qualite_air_transport.csv\", sep=\";\")\n",
    "print(df.head())\n",
    "print(df.info())\n"
   ]
  }
 ],
 "metadata": {
  "kernelspec": {
   "display_name": "Python 3",
   "language": "python",
   "name": "python3"
  },
  "language_info": {
   "codemirror_mode": {
    "name": "ipython",
    "version": 3
   },
   "file_extension": ".py",
   "mimetype": "text/x-python",
   "name": "python",
   "nbconvert_exporter": "python",
   "pygments_lexer": "ipython3",
   "version": "3.9.13"
  }
 },
 "nbformat": 4,
 "nbformat_minor": 2
}
